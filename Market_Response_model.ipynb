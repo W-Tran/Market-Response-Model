{
 "cells": [
  {
   "cell_type": "code",
   "execution_count": 1,
   "metadata": {},
   "outputs": [],
   "source": [
    "from datetime import datetime, timedelta, date\n",
    "import pandas as pd\n",
    "from sklearn.metrics import classification_report, confusion_matrix\n",
    "import matplotlib.pyplot as plt\n",
    "import numpy as np\n",
    "import seaborn as sns\n",
    "from sklearn.cluster import KMeans\n",
    "import plotly.offline as pyo\n",
    "import plotly.graph_objs as go\n",
    "from lightgbm import LGBMClassifier\n",
    "from sklearn.model_selection import KFold, cross_val_score, train_test_split\n",
    "from sklearn.linear_model import LogisticRegression\n",
    "from sklearn.preprocessing import LabelEncoder\n",
    "import gc\n",
    "\n",
    "from hyperopt import STATUS_OK\n",
    "from timeit import default_timer as timer\n",
    "from hyperopt import hp\n",
    "from hyperopt.pyll.stochastic import sample\n",
    "from hyperopt import tpe\n",
    "from hyperopt import Trials\n",
    "import matplotlib.pyplot as plt\n",
    "import csv\n",
    "from lightgbm import LGBMClassifier\n",
    "import os\n",
    "import pickle\n",
    "from sklearn.model_selection import StratifiedKFold\n",
    "import ast\n",
    "\n",
    "%matplotlib inline"
   ]
  },
  {
   "cell_type": "code",
   "execution_count": 2,
   "metadata": {},
   "outputs": [],
   "source": [
    "df_data = pd.read_csv(\"data/response_data.csv\")"
   ]
  },
  {
   "cell_type": "code",
   "execution_count": 3,
   "metadata": {},
   "outputs": [
    {
     "data": {
      "text/html": [
       "<div>\n",
       "<style scoped>\n",
       "    .dataframe tbody tr th:only-of-type {\n",
       "        vertical-align: middle;\n",
       "    }\n",
       "\n",
       "    .dataframe tbody tr th {\n",
       "        vertical-align: top;\n",
       "    }\n",
       "\n",
       "    .dataframe thead th {\n",
       "        text-align: right;\n",
       "    }\n",
       "</style>\n",
       "<table border=\"1\" class=\"dataframe\">\n",
       "  <thead>\n",
       "    <tr style=\"text-align: right;\">\n",
       "      <th></th>\n",
       "      <th>recency</th>\n",
       "      <th>history</th>\n",
       "      <th>used_discount</th>\n",
       "      <th>used_bogo</th>\n",
       "      <th>zip_code</th>\n",
       "      <th>is_new</th>\n",
       "      <th>channel</th>\n",
       "      <th>offer</th>\n",
       "      <th>conversion</th>\n",
       "    </tr>\n",
       "  </thead>\n",
       "  <tbody>\n",
       "    <tr>\n",
       "      <th>0</th>\n",
       "      <td>10</td>\n",
       "      <td>142.44</td>\n",
       "      <td>1</td>\n",
       "      <td>0</td>\n",
       "      <td>Surburban</td>\n",
       "      <td>0</td>\n",
       "      <td>Phone</td>\n",
       "      <td>Buy One Get One</td>\n",
       "      <td>0</td>\n",
       "    </tr>\n",
       "    <tr>\n",
       "      <th>1</th>\n",
       "      <td>6</td>\n",
       "      <td>329.08</td>\n",
       "      <td>1</td>\n",
       "      <td>1</td>\n",
       "      <td>Rural</td>\n",
       "      <td>1</td>\n",
       "      <td>Web</td>\n",
       "      <td>No Offer</td>\n",
       "      <td>0</td>\n",
       "    </tr>\n",
       "    <tr>\n",
       "      <th>2</th>\n",
       "      <td>7</td>\n",
       "      <td>180.65</td>\n",
       "      <td>0</td>\n",
       "      <td>1</td>\n",
       "      <td>Surburban</td>\n",
       "      <td>1</td>\n",
       "      <td>Web</td>\n",
       "      <td>Buy One Get One</td>\n",
       "      <td>0</td>\n",
       "    </tr>\n",
       "    <tr>\n",
       "      <th>3</th>\n",
       "      <td>9</td>\n",
       "      <td>675.83</td>\n",
       "      <td>1</td>\n",
       "      <td>0</td>\n",
       "      <td>Rural</td>\n",
       "      <td>1</td>\n",
       "      <td>Web</td>\n",
       "      <td>Discount</td>\n",
       "      <td>0</td>\n",
       "    </tr>\n",
       "    <tr>\n",
       "      <th>4</th>\n",
       "      <td>2</td>\n",
       "      <td>45.34</td>\n",
       "      <td>1</td>\n",
       "      <td>0</td>\n",
       "      <td>Urban</td>\n",
       "      <td>0</td>\n",
       "      <td>Web</td>\n",
       "      <td>Buy One Get One</td>\n",
       "      <td>0</td>\n",
       "    </tr>\n",
       "  </tbody>\n",
       "</table>\n",
       "</div>"
      ],
      "text/plain": [
       "   recency  history  used_discount  used_bogo   zip_code  is_new channel  \\\n",
       "0       10   142.44              1          0  Surburban       0   Phone   \n",
       "1        6   329.08              1          1      Rural       1     Web   \n",
       "2        7   180.65              0          1  Surburban       1     Web   \n",
       "3        9   675.83              1          0      Rural       1     Web   \n",
       "4        2    45.34              1          0      Urban       0     Web   \n",
       "\n",
       "             offer  conversion  \n",
       "0  Buy One Get One           0  \n",
       "1         No Offer           0  \n",
       "2  Buy One Get One           0  \n",
       "3         Discount           0  \n",
       "4  Buy One Get One           0  "
      ]
     },
     "execution_count": 3,
     "metadata": {},
     "output_type": "execute_result"
    }
   ],
   "source": [
    "df_data.head()"
   ]
  },
  {
   "cell_type": "markdown",
   "metadata": {},
   "source": [
    "- **recency:** months since last purchase\n",
    "- **history:** $ value of the historical purchases\n",
    "- **used_discount/used_bogo:** indicates if the customer used a discount or buy get one before\n",
    "- **zip_code:** class of the zip code as Suburban/Urban/Rural\n",
    "- **is_new:** indicates if the customer new\n",
    "- **channel:** channels that the customer using, Phone/Web/Multichannel\n",
    "- **offer:** the offers sent to the customers, Discount/But One Get One/No Offer\n",
    "- **conversion:** Customer purchased something in the following two weeks"
   ]
  },
  {
   "cell_type": "markdown",
   "metadata": {},
   "source": [
    "**Uplift Formula**\n",
    "\n",
    "- **Conversion Uplift:** Conversion rate of test group - conversion rate of control group\n",
    "    - What % increase of customers were converted by sending out offers\n",
    "\n",
    "- **Order Uplift:** Conversion uplift * number of converted customers in test group\n",
    "    - How many customers is this % increase equivalent to\n",
    "\n",
    "- **Revenue Uplift:** Order Uplift * Average order value\n",
    "    - How much extra money does this group of converted customers generate"
   ]
  },
  {
   "cell_type": "code",
   "execution_count": 4,
   "metadata": {},
   "outputs": [],
   "source": [
    "def calc_uplift(df):\n",
    "    #assigning 25$ to the average order value\n",
    "    avg_order_value = 25\n",
    "    \n",
    "    #calculate conversions for each offer type\n",
    "    base_conv = df[df.offer == 'No Offer']['conversion'].mean()\n",
    "    disc_conv = df[df.offer == 'Discount']['conversion'].mean()\n",
    "    bogo_conv = df[df.offer == 'Buy One Get One']['conversion'].mean()\n",
    "    \n",
    "    #calculate conversion uplift for discount and bogo\n",
    "    disc_conv_uplift = disc_conv - base_conv\n",
    "    bogo_conv_uplift = bogo_conv - base_conv\n",
    "    \n",
    "    #calculate order uplift\n",
    "    disc_order_uplift = disc_conv_uplift * len(df[df.offer == 'Discount']['conversion'])\n",
    "    bogo_order_uplift = bogo_conv_uplift * len(df[df.offer == 'Buy One Get One']['conversion'])\n",
    "    \n",
    "    #calculate revenue uplift\n",
    "    disc_rev_uplift = disc_order_uplift * avg_order_value\n",
    "    bogo_rev_uplift = bogo_order_uplift * avg_order_value\n",
    "    \n",
    "    \n",
    "    print('Discount Conversion Uplift: {0}%'.format(np.round(disc_conv_uplift*100,2)))\n",
    "    print('Discount Order Uplift: {0}'.format(np.round(disc_order_uplift,2)))\n",
    "    print('Discount Revenue Uplift: ${0}\\n'.format(np.round(disc_rev_uplift,2)))\n",
    "          \n",
    "    print('-------------- \\n')\n",
    "    print('BOGO Conversion Uplift: {0}%'.format(np.round(bogo_conv_uplift*100,2)))\n",
    "    print('BOGO Order Uplift: {0}'.format(np.round(bogo_order_uplift,2)))\n",
    "    print('BOGO Revenue Uplift: ${0}'.format(np.round(bogo_rev_uplift,2)))"
   ]
  },
  {
   "cell_type": "code",
   "execution_count": 5,
   "metadata": {},
   "outputs": [
    {
     "name": "stdout",
     "output_type": "stream",
     "text": [
      "Discount Conversion Uplift: 7.66%\n",
      "Discount Order Uplift: 1631.89\n",
      "Discount Revenue Uplift: $40797.35\n",
      "\n",
      "-------------- \n",
      "\n",
      "BOGO Conversion Uplift: 4.52%\n",
      "BOGO Order Uplift: 967.4\n",
      "BOGO Revenue Uplift: $24185.01\n"
     ]
    }
   ],
   "source": [
    "calc_uplift(df_data)"
   ]
  },
  {
   "cell_type": "markdown",
   "metadata": {},
   "source": [
    "# EDA"
   ]
  },
  {
   "cell_type": "markdown",
   "metadata": {},
   "source": [
    "**Recency vs Conversion Rate**\n",
    "\n",
    "We expect the active customers to be converted more frequently since conversion is measured within a 2 week period."
   ]
  },
  {
   "cell_type": "code",
   "execution_count": 6,
   "metadata": {},
   "outputs": [
    {
     "data": {
      "image/png": "[encoded data removed]",
      "text/plain": [
       "<Figure size 432x288 with 1 Axes>"
      ]
     },
     "metadata": {
      "needs_background": "light"
     },
     "output_type": "display_data"
    }
   ],
   "source": [
    "df_data[df_data.conversion==0].recency.plot.hist()\n",
    "df_data[df_data.conversion==1].recency.plot.hist();"
   ]
  },
  {
   "cell_type": "code",
   "execution_count": 7,
   "metadata": {},
   "outputs": [
    {
     "data": {
      "text/plain": [
       "<matplotlib.axes._subplots.AxesSubplot at 0x26ad33d6c48>"
      ]
     },
     "execution_count": 7,
     "metadata": {},
     "output_type": "execute_result"
    },
    {
     "data": {
      "image/png": "[encoded data removed]",
      "text/plain": [
       "<Figure size 432x288 with 1 Axes>"
      ]
     },
     "metadata": {
      "needs_background": "light"
     },
     "output_type": "display_data"
    }
   ],
   "source": [
    "df = df_data.groupby(\"recency\")['conversion'].mean().reset_index()\n",
    "df.columns = ['Recency', 'ConversionRate']\n",
    "sns.barplot(x='Recency', y='ConversionRate', data=df, color='steelblue')"
   ]
  },
  {
   "cell_type": "markdown",
   "metadata": {},
   "source": [
    "Trend is as expected until the 11 month period where conversion rate begins to increase. From the histogram it can be seen that there is a spike in customers who have a recency of >9 months which may be causing the change in the trend."
   ]
  },
  {
   "cell_type": "code",
   "execution_count": 8,
   "metadata": {},
   "outputs": [
    {
     "data": {
      "text/plain": [
       "3785"
      ]
     },
     "execution_count": 8,
     "metadata": {},
     "output_type": "execute_result"
    }
   ],
   "source": [
    "del df\n",
    "gc.enable()\n",
    "gc.collect()"
   ]
  },
  {
   "cell_type": "markdown",
   "metadata": {},
   "source": [
    "<br>\n",
    "<br>"
   ]
  },
  {
   "cell_type": "markdown",
   "metadata": {},
   "source": [
    "**History vs Conversion rate**"
   ]
  },
  {
   "cell_type": "code",
   "execution_count": 9,
   "metadata": {},
   "outputs": [],
   "source": [
    "# Use elbow method to select the correct number of clusters\n",
    "\n",
    "#inertias = []\n",
    "#for n in range(1,10):\n",
    "#    kmeans = KMeans(n_clusters=n, n_init=30)\n",
    "#    kmeans.fit(df_data.history.values.reshape(-1,1))\n",
    "#    inertias.append(kmeans.inertia_)\n",
    "#    \n",
    "#plt.plot(list(range(1,10)), inertias);"
   ]
  },
  {
   "cell_type": "code",
   "execution_count": 10,
   "metadata": {},
   "outputs": [
    {
     "data": {
      "text/plain": [
       "KMeans(algorithm='auto', copy_x=True, init='k-means++', max_iter=300,\n",
       "       n_clusters=5, n_init=30, n_jobs=None, precompute_distances='auto',\n",
       "       random_state=None, tol=0.0001, verbose=0)"
      ]
     },
     "execution_count": 10,
     "metadata": {},
     "output_type": "execute_result"
    }
   ],
   "source": [
    "kmeans = KMeans(n_clusters=5, n_init=30)\n",
    "kmeans.fit(df_data.history.values.reshape(-1,1))"
   ]
  },
  {
   "cell_type": "code",
   "execution_count": 11,
   "metadata": {},
   "outputs": [],
   "source": [
    "df_data['HistoryClusters'] = kmeans.labels_\n",
    "# idx of \"remap\" = New label\n",
    "remap = np.array(sorted(zip(kmeans.cluster_centers_.reshape(-1).tolist(), range(0,5)), key=lambda x: x[0]))[:,1]\n",
    "remapper = {}\n",
    "for idx, i in enumerate(remap):\n",
    "    remapper[int(i)] = idx\n",
    "df_data['HistoryClusters'].replace(remapper, inplace=True)"
   ]
  },
  {
   "cell_type": "code",
   "execution_count": 12,
   "metadata": {},
   "outputs": [
    {
     "data": {
      "image/png": "[encoded data removed]",
      "text/plain": [
       "<Figure size 432x288 with 1 Axes>"
      ]
     },
     "metadata": {
      "needs_background": "light"
     },
     "output_type": "display_data"
    }
   ],
   "source": [
    "df = df_data.groupby(\"HistoryClusters\")['conversion'].mean().reset_index()\n",
    "df.columns = ['HistoryClusters', 'ConversionRate']\n",
    "sns.barplot(x='HistoryClusters', y='ConversionRate', data=df, color='steelblue');"
   ]
  },
  {
   "cell_type": "code",
   "execution_count": 13,
   "metadata": {},
   "outputs": [
    {
     "data": {
      "text/plain": [
       "2782"
      ]
     },
     "execution_count": 13,
     "metadata": {},
     "output_type": "execute_result"
    }
   ],
   "source": [
    "del remap, remapper, df\n",
    "gc.enable()\n",
    "gc.collect()"
   ]
  },
  {
   "cell_type": "markdown",
   "metadata": {},
   "source": [
    "The more the customer spent in the last year, the more likely they are to be converted by an offer. This agrees with our recency hypothesis whereby history is proportional to how active a customer is and active customers are more likely to be converted (here activity is measured by how much a customer spent in the last year)."
   ]
  },
  {
   "cell_type": "markdown",
   "metadata": {},
   "source": [
    "<br>\n",
    "<br>"
   ]
  },
  {
   "cell_type": "markdown",
   "metadata": {},
   "source": [
    "**Used discount & BOGO**"
   ]
  },
  {
   "cell_type": "code",
   "execution_count": 14,
   "metadata": {},
   "outputs": [
    {
     "data": {
      "text/html": [
       "<div>\n",
       "<style scoped>\n",
       "    .dataframe tbody tr th:only-of-type {\n",
       "        vertical-align: middle;\n",
       "    }\n",
       "\n",
       "    .dataframe tbody tr th {\n",
       "        vertical-align: top;\n",
       "    }\n",
       "\n",
       "    .dataframe thead th {\n",
       "        text-align: right;\n",
       "    }\n",
       "</style>\n",
       "<table border=\"1\" class=\"dataframe\">\n",
       "  <thead>\n",
       "    <tr style=\"text-align: right;\">\n",
       "      <th></th>\n",
       "      <th></th>\n",
       "      <th></th>\n",
       "      <th>conversion</th>\n",
       "    </tr>\n",
       "    <tr>\n",
       "      <th>used_discount</th>\n",
       "      <th>used_bogo</th>\n",
       "      <th>offer</th>\n",
       "      <th></th>\n",
       "    </tr>\n",
       "  </thead>\n",
       "  <tbody>\n",
       "    <tr>\n",
       "      <th rowspan=\"3\" valign=\"top\">0</th>\n",
       "      <th rowspan=\"3\" valign=\"top\">1</th>\n",
       "      <th>Buy One Get One</th>\n",
       "      <td>0.169794</td>\n",
       "    </tr>\n",
       "    <tr>\n",
       "      <th>Discount</th>\n",
       "      <td>0.166388</td>\n",
       "    </tr>\n",
       "    <tr>\n",
       "      <th>No Offer</th>\n",
       "      <td>0.095808</td>\n",
       "    </tr>\n",
       "    <tr>\n",
       "      <th rowspan=\"6\" valign=\"top\">1</th>\n",
       "      <th rowspan=\"3\" valign=\"top\">0</th>\n",
       "      <th>Buy One Get One</th>\n",
       "      <td>0.110892</td>\n",
       "    </tr>\n",
       "    <tr>\n",
       "      <th>Discount</th>\n",
       "      <td>0.168968</td>\n",
       "    </tr>\n",
       "    <tr>\n",
       "      <th>No Offer</th>\n",
       "      <td>0.099813</td>\n",
       "    </tr>\n",
       "    <tr>\n",
       "      <th rowspan=\"3\" valign=\"top\">1</th>\n",
       "      <th>Buy One Get One</th>\n",
       "      <td>0.251653</td>\n",
       "    </tr>\n",
       "    <tr>\n",
       "      <th>Discount</th>\n",
       "      <td>0.314993</td>\n",
       "    </tr>\n",
       "    <tr>\n",
       "      <th>No Offer</th>\n",
       "      <td>0.180549</td>\n",
       "    </tr>\n",
       "  </tbody>\n",
       "</table>\n",
       "</div>"
      ],
      "text/plain": [
       "                                         conversion\n",
       "used_discount used_bogo offer                      \n",
       "0             1         Buy One Get One    0.169794\n",
       "                        Discount           0.166388\n",
       "                        No Offer           0.095808\n",
       "1             0         Buy One Get One    0.110892\n",
       "                        Discount           0.168968\n",
       "                        No Offer           0.099813\n",
       "              1         Buy One Get One    0.251653\n",
       "                        Discount           0.314993\n",
       "                        No Offer           0.180549"
      ]
     },
     "execution_count": 14,
     "metadata": {},
     "output_type": "execute_result"
    }
   ],
   "source": [
    "# Use \"agg\" to return a df instead of a series\n",
    "df_data.groupby([\"used_discount\", \"used_bogo\", \"offer\"]).agg({'conversion':'mean'})"
   ]
  },
  {
   "cell_type": "markdown",
   "metadata": {},
   "source": [
    "Customers who used both of the offers before have the highest conversion rate."
   ]
  },
  {
   "cell_type": "markdown",
   "metadata": {},
   "source": [
    "<br>\n",
    "<br>"
   ]
  },
  {
   "cell_type": "markdown",
   "metadata": {},
   "source": [
    "**Zip code**"
   ]
  },
  {
   "cell_type": "code",
   "execution_count": 15,
   "metadata": {},
   "outputs": [
    {
     "data": {
      "text/plain": [
       "<matplotlib.axes._subplots.AxesSubplot at 0x26ad310ec48>"
      ]
     },
     "execution_count": 15,
     "metadata": {},
     "output_type": "execute_result"
    },
    {
     "data": {
      "image/png": "[encoded data removed]",
      "text/plain": [
       "<Figure size 432x288 with 1 Axes>"
      ]
     },
     "metadata": {
      "needs_background": "light"
     },
     "output_type": "display_data"
    }
   ],
   "source": [
    "df = df_data.groupby(\"zip_code\")['conversion'].mean().reset_index()\n",
    "df.columns = ['ZIPCode', 'ConversionRate']\n",
    "sns.barplot(x='ZIPCode', y='ConversionRate', data=df)"
   ]
  },
  {
   "cell_type": "code",
   "execution_count": 16,
   "metadata": {},
   "outputs": [
    {
     "data": {
      "text/plain": [
       "35"
      ]
     },
     "execution_count": 16,
     "metadata": {},
     "output_type": "execute_result"
    }
   ],
   "source": [
    "del df\n",
    "gc.enable()\n",
    "gc.collect()"
   ]
  },
  {
   "cell_type": "markdown",
   "metadata": {},
   "source": [
    "<br>\n",
    "<br>"
   ]
  },
  {
   "cell_type": "markdown",
   "metadata": {},
   "source": [
    "**New customers**"
   ]
  },
  {
   "cell_type": "code",
   "execution_count": 17,
   "metadata": {
    "scrolled": true
   },
   "outputs": [
    {
     "data": {
      "text/plain": [
       "<matplotlib.axes._subplots.AxesSubplot at 0x26ad3333b88>"
      ]
     },
     "execution_count": 17,
     "metadata": {},
     "output_type": "execute_result"
    },
    {
     "data": {
      "image/png": "[encoded data removed]",
      "text/plain": [
       "<Figure size 432x288 with 1 Axes>"
      ]
     },
     "metadata": {
      "needs_background": "light"
     },
     "output_type": "display_data"
    }
   ],
   "source": [
    "df = df_data.groupby(\"is_new\")['conversion'].mean().reset_index()\n",
    "df.columns = ['is_new', 'ConversionRate']\n",
    "sns.barplot(x='is_new', y='ConversionRate', data=df)"
   ]
  },
  {
   "cell_type": "code",
   "execution_count": 18,
   "metadata": {},
   "outputs": [
    {
     "data": {
      "text/plain": [
       "35"
      ]
     },
     "execution_count": 18,
     "metadata": {},
     "output_type": "execute_result"
    }
   ],
   "source": [
    "del df\n",
    "gc.enable()\n",
    "gc.collect()"
   ]
  },
  {
   "cell_type": "markdown",
   "metadata": {},
   "source": [
    "<br>\n",
    "<br>"
   ]
  },
  {
   "cell_type": "markdown",
   "metadata": {},
   "source": [
    "**Channel**"
   ]
  },
  {
   "cell_type": "code",
   "execution_count": 19,
   "metadata": {},
   "outputs": [
    {
     "data": {
      "text/plain": [
       "<matplotlib.axes._subplots.AxesSubplot at 0x26ad3188048>"
      ]
     },
     "execution_count": 19,
     "metadata": {},
     "output_type": "execute_result"
    },
    {
     "data": {
      "image/png": "[encoded data removed]",
      "text/plain": [
       "<Figure size 432x288 with 1 Axes>"
      ]
     },
     "metadata": {
      "needs_background": "light"
     },
     "output_type": "display_data"
    }
   ],
   "source": [
    "df = df_data.groupby(\"channel\")['conversion'].mean().reset_index()\n",
    "df.columns = ['channel', 'ConversionRate']\n",
    "sns.barplot(x='channel', y='ConversionRate', data=df)"
   ]
  },
  {
   "cell_type": "code",
   "execution_count": 20,
   "metadata": {},
   "outputs": [
    {
     "data": {
      "text/plain": [
       "35"
      ]
     },
     "execution_count": 20,
     "metadata": {},
     "output_type": "execute_result"
    }
   ],
   "source": [
    "del df\n",
    "gc.enable()\n",
    "gc.collect()"
   ]
  },
  {
   "cell_type": "markdown",
   "metadata": {},
   "source": [
    "<br>\n",
    "<br>"
   ]
  },
  {
   "cell_type": "markdown",
   "metadata": {},
   "source": [
    "**Offer Type**"
   ]
  },
  {
   "cell_type": "code",
   "execution_count": 21,
   "metadata": {},
   "outputs": [
    {
     "data": {
      "text/plain": [
       "<matplotlib.axes._subplots.AxesSubplot at 0x26ad31db888>"
      ]
     },
     "execution_count": 21,
     "metadata": {},
     "output_type": "execute_result"
    },
    {
     "data": {
      "image/png": "[encoded data removed]",
      "text/plain": [
       "<Figure size 432x288 with 1 Axes>"
      ]
     },
     "metadata": {
      "needs_background": "light"
     },
     "output_type": "display_data"
    }
   ],
   "source": [
    "df = df_data.groupby(\"offer\")['conversion'].mean().reset_index()\n",
    "df.columns = ['offer', 'ConversionRate']\n",
    "sns.barplot(x='offer', y='ConversionRate', data=df)"
   ]
  },
  {
   "cell_type": "code",
   "execution_count": 22,
   "metadata": {
    "scrolled": false
   },
   "outputs": [
    {
     "data": {
      "text/plain": [
       "35"
      ]
     },
     "execution_count": 22,
     "metadata": {},
     "output_type": "execute_result"
    }
   ],
   "source": [
    "del df\n",
    "gc.enable()\n",
    "gc.collect()"
   ]
  },
  {
   "cell_type": "markdown",
   "metadata": {},
   "source": [
    "<br>\n",
    "<br>"
   ]
  },
  {
   "cell_type": "markdown",
   "metadata": {},
   "source": [
    "**Build model**"
   ]
  },
  {
   "cell_type": "code",
   "execution_count": 23,
   "metadata": {},
   "outputs": [],
   "source": [
    "train = df_data.copy()\n",
    "label = train.conversion.values\n",
    "train = train.drop(columns=\"conversion\")\n",
    "train = pd.get_dummies(train).values"
   ]
  },
  {
   "cell_type": "code",
   "execution_count": 24,
   "metadata": {},
   "outputs": [],
   "source": [
    "log_regr = LogisticRegression(solver='lbfgs', multi_class='auto', max_iter=1000)"
   ]
  },
  {
   "cell_type": "code",
   "execution_count": 25,
   "metadata": {},
   "outputs": [
    {
     "data": {
      "text/plain": [
       "LogisticRegression(C=1.0, class_weight=None, dual=False, fit_intercept=True,\n",
       "                   intercept_scaling=1, l1_ratio=None, max_iter=1000,\n",
       "                   multi_class='auto', n_jobs=None, penalty='l2',\n",
       "                   random_state=None, solver='lbfgs', tol=0.0001, verbose=0,\n",
       "                   warm_start=False)"
      ]
     },
     "execution_count": 25,
     "metadata": {},
     "output_type": "execute_result"
    }
   ],
   "source": [
    "log_regr.fit(train, label)"
   ]
  },
  {
   "cell_type": "code",
   "execution_count": 26,
   "metadata": {},
   "outputs": [
    {
     "data": {
      "text/plain": [
       "array([[0.89696532, 0.10303468],\n",
       "       [0.81400188, 0.18599812],\n",
       "       [0.87973064, 0.12026936],\n",
       "       ...,\n",
       "       [0.90888991, 0.09111009],\n",
       "       [0.86757106, 0.13242894],\n",
       "       [0.68183775, 0.31816225]])"
      ]
     },
     "execution_count": 26,
     "metadata": {},
     "output_type": "execute_result"
    }
   ],
   "source": [
    "log_regr.predict_proba(train)"
   ]
  },
  {
   "cell_type": "markdown",
   "metadata": {},
   "source": [
    "<br>\n",
    "<br>"
   ]
  },
  {
   "cell_type": "code",
   "execution_count": 27,
   "metadata": {},
   "outputs": [],
   "source": [
    "train_df = df_data.copy()\n",
    "label_df = train_df.conversion\n",
    "train_df = train_df.drop(columns=\"conversion\")\n",
    "\n",
    "le_maps = {}\n",
    "for col in train_df.select_dtypes(\"object\"):\n",
    "    le = LabelEncoder()\n",
    "    train_df[col] = le.fit_transform(train_df[col])\n",
    "    train_df[col] = train_df[col].astype(\"category\")\n",
    "    le_maps[col] = le.classes_\n",
    "    \n",
    "X_train_df, X_test_df, y_train_df, y_test_df = train_test_split(train_df, label_df, test_size=0.1, random_state=42)\n",
    "X_train_df, X_test_df, y_train_df, y_test_df = X_train_df.copy(), X_test_df.copy(), y_train_df.copy(), y_test_df.copy()\n",
    "y_train_df = pd.DataFrame(y_train_df)\n",
    "y_test_df = pd.DataFrame(y_test_df)"
   ]
  },
  {
   "cell_type": "code",
   "execution_count": 28,
   "metadata": {},
   "outputs": [],
   "source": [
    "train = X_train_df.copy()\n",
    "label = y_train_df.copy()\n",
    "\n",
    "N_FOLDS = 5\n",
    "\n",
    "def objective(params, n_folds=N_FOLDS):\n",
    "    \"\"\"Objective function for Gradient Boosting Machine Hyperparameter Optimization\"\"\"\n",
    "    \n",
    "    # Keep track of evals\n",
    "    global ITERATION\n",
    "    \n",
    "    ITERATION += 1\n",
    "    \n",
    "    # Retrieve the subsample if present otherwise set to 1.0\n",
    "    subsample = params['boosting_type'].get('subsample', 1.0)\n",
    "    \n",
    "    # Extract the boosting type\n",
    "    params['boosting_type'] = params['boosting_type']['boosting_type']\n",
    "    params['subsample'] = subsample\n",
    "    \n",
    "    # Make sure parameters that need to be integers are integers\n",
    "    for parameter_name in ['num_leaves', 'subsample_for_bin', 'min_child_samples']:\n",
    "        params[parameter_name] = int(params[parameter_name]) \n",
    "    \n",
    "    # Use GPU\n",
    "    params['device'] = 'gpu'\n",
    "    \n",
    "    skf = StratifiedKFold(N_FOLDS)\n",
    "    cv_n_estimators = []\n",
    "    cv_scores = []\n",
    "    \n",
    "    start = timer()\n",
    "    \n",
    "    for train_index, val_index in skf.split(train, label):\n",
    "        X_train, y_train = train.iloc[train_index,:], label.iloc[train_index, 0].values\n",
    "        X_val, y_val = train.iloc[val_index,:], label.iloc[val_index, 0].values\n",
    "        \n",
    "        model = LGBMClassifier(**params, n_jobs=6, random_state=30)\n",
    "        model.fit(X_train, y_train, \n",
    "                  eval_metric='binary_logloss',\n",
    "                  eval_set = [(X_val, y_val)],\n",
    "                  eval_names = ['valid'], \n",
    "                  categorical_feature = 'auto',\n",
    "                  early_stopping_rounds = 100,\n",
    "                  verbose=0\n",
    "                 )\n",
    "        cv_n_estimators.append(model.best_iteration_)\n",
    "        cv_scores.append(model.best_score_['valid']['binary_logloss'])\n",
    "    \n",
    "    run_time = timer() - start\n",
    "    \n",
    "    best_score = np.mean(cv_scores)\n",
    "    loss = best_score\n",
    "    n_estimators = np.mean(cv_n_estimators)\n",
    "    \n",
    "    # Write to the csv file ('a' means append)\n",
    "    of_connection = open(out_file, 'a')\n",
    "    writer = csv.writer(of_connection)\n",
    "    writer.writerow([loss, params, ITERATION, n_estimators, run_time])\n",
    "    \n",
    "    gc.enable()\n",
    "    gc.collect()\n",
    "    \n",
    "    # Dictionary with information for evaluation\n",
    "    return {'loss': loss, 'params': params, 'iteration': ITERATION,\n",
    "            'estimators': n_estimators, \n",
    "            'train_time': run_time, 'status': STATUS_OK}"
   ]
  },
  {
   "cell_type": "code",
   "execution_count": 29,
   "metadata": {},
   "outputs": [],
   "source": [
    "space = {\n",
    "    'class_weight': hp.choice('class_weight', [None, 'balanced']),\n",
    "    'boosting_type': hp.choice('boosting_type', [{'boosting_type': 'gbdt', 'subsample': hp.uniform('gdbt_subsample', 0.5, 1)},\n",
    "                                                 #{'boosting_type': 'dart', 'subsample': hp.uniform('dart_subsample', 0.5, 1)},\n",
    "                                                 {'boosting_type': 'goss', 'subsample': 1.0}]),\n",
    "    'num_leaves': hp.quniform('num_leaves', 5, 300, 1),\n",
    "    'learning_rate': hp.loguniform('learning_rate', np.log(0.005), np.log(0.5)),\n",
    "    'subsample_for_bin': hp.quniform('subsample_for_bin', 1000, 50000, 1000),\n",
    "    'min_child_samples': hp.quniform('min_child_samples', 5, 250, 1),\n",
    "    'reg_alpha': hp.uniform('reg_alpha', 0.0, 1.0),\n",
    "    'reg_lambda': hp.uniform('reg_lambda', 0.0, 1.0),\n",
    "    'colsample_bytree': hp.uniform('colsample_by_tree', 0.3, 1.0)\n",
    "}\n",
    "\n",
    "# optimization algorithm\n",
    "tpe_algorithm = tpe.suggest\n",
    "\n",
    "######################################### Keep track of results #########################################################\n",
    "\n",
    "# Fresh start\n",
    "bayes_trials = Trials()\n",
    "\n",
    "# Warm start\n",
    "#bayes_trials = pickle.load(open(\"bayes_trials_200.p\", \"rb\"))\n",
    "\n",
    "####################################### File to save first results #########################################################\n",
    "\n",
    "# ONLY RUN THIS ON SUBSEQUENT TIMES\n",
    "#out_file = 'results/gbm_trials.csv'\n",
    "\n",
    "# RUN THIS ON FIRST TIME\n",
    "out_file = 'results/gbm_trials.csv'\n",
    "of_connection = open(out_file, 'w')\n",
    "writer = csv.writer(of_connection)\n",
    "writer.writerow(['loss', 'params', 'iteration', 'estimators', 'train_time'])\n",
    "of_connection.close()"
   ]
  },
  {
   "cell_type": "code",
   "execution_count": 30,
   "metadata": {
    "scrolled": true
   },
   "outputs": [
    {
     "name": "stdout",
     "output_type": "stream",
     "text": [
      "100%|████████████████████████████████████████████████████████████████████████████████████████████████████████████████████████████████████████████████████████████████████████████████████████████████████| 100/100 [16:31<00:00,  9.92s/it, best loss: 0.39902836052045154]\n"
     ]
    }
   ],
   "source": [
    "from hyperopt import fmin\n",
    "\n",
    "# Global variable\n",
    "global ITERATION\n",
    "\n",
    "MAX_EVALS = 100\n",
    "ITERATION = 0\n",
    "\n",
    "# Run optimization\n",
    "best = fmin(fn = objective, \n",
    "            space = space, \n",
    "            algo = tpe.suggest, \n",
    "            max_evals = MAX_EVALS, \n",
    "            trials = bayes_trials, \n",
    "            rstate = np.random.RandomState(30)\n",
    "           )"
   ]
  },
  {
   "cell_type": "markdown",
   "metadata": {},
   "source": [
    "<br>\n",
    "<br>"
   ]
  },
  {
   "cell_type": "code",
   "execution_count": 31,
   "metadata": {},
   "outputs": [
    {
     "data": {
      "text/plain": [
       "{'boosting_type': 'gbdt',\n",
       " 'class_weight': None,\n",
       " 'colsample_bytree': 0.5952681206633422,\n",
       " 'learning_rate': 0.386755523992913,\n",
       " 'min_child_samples': 107,\n",
       " 'num_leaves': 5,\n",
       " 'reg_alpha': 0.2427335671046913,\n",
       " 'reg_lambda': 0.1507696835258036,\n",
       " 'subsample_for_bin': 29000,\n",
       " 'subsample': 0.7325353214056809,\n",
       " 'device': 'gpu'}"
      ]
     },
     "execution_count": 31,
     "metadata": {},
     "output_type": "execute_result"
    }
   ],
   "source": [
    "results = pd.read_csv('results/gbm_trials.csv')\n",
    "\n",
    "# Sort with best scores on top and reset index for slicing\n",
    "results.sort_values('loss', ascending = True, inplace = True)\n",
    "results.reset_index(inplace = True, drop = True)\n",
    "\n",
    "# Extract the ideal number of estimators and hyperparameters\n",
    "best_bayes_estimators = int(results.loc[0, 'estimators'])\n",
    "best_bayes_params = ast.literal_eval(results.loc[0, 'params']).copy()\n",
    "best_bayes_params"
   ]
  },
  {
   "cell_type": "code",
   "execution_count": 32,
   "metadata": {},
   "outputs": [
    {
     "data": {
      "text/plain": [
       "LGBMClassifier(boosting_type='gbdt', class_weight=None,\n",
       "               colsample_bytree=0.5952681206633422, device='gpu',\n",
       "               importance_type='split', learning_rate=0.386755523992913,\n",
       "               max_depth=-1, min_child_samples=107, min_child_weight=0.001,\n",
       "               min_split_gain=0.0, n_estimators=31, n_jobs=6, num_leaves=5,\n",
       "               objective=None, random_state=30, reg_alpha=0.2427335671046913,\n",
       "               reg_lambda=0.1507696835258036, silent=True,\n",
       "               subsample=0.7325353214056809, subsample_for_bin=29000,\n",
       "               subsample_freq=0)"
      ]
     },
     "execution_count": 32,
     "metadata": {},
     "output_type": "execute_result"
    }
   ],
   "source": [
    "best_bayes_model = LGBMClassifier(n_estimators=best_bayes_estimators, n_jobs = 6, random_state = 30, **best_bayes_params)\n",
    "best_bayes_model.fit(train, label.conversion.values, eval_metric='binary_logloss', categorical_feature = 'auto')"
   ]
  },
  {
   "cell_type": "code",
   "execution_count": 33,
   "metadata": {},
   "outputs": [],
   "source": [
    "X_test_df['proba'] = best_bayes_model.predict_proba(X_test_df)[:,1]\n",
    "X_test_df['conversion'] = y_test_df.values"
   ]
  },
  {
   "cell_type": "code",
   "execution_count": 34,
   "metadata": {},
   "outputs": [],
   "source": [
    "import pickle\n",
    "pickle.dump(bayes_trials, open(\"bayes_trials_100.p\", \"wb\"))"
   ]
  },
  {
   "cell_type": "code",
   "execution_count": 35,
   "metadata": {},
   "outputs": [
    {
     "name": "stderr",
     "output_type": "stream",
     "text": [
      "c:\\users\\wongt\\desktop\\market_response_models\\mrm_env\\lib\\site-packages\\sklearn\\externals\\joblib\\__init__.py:15: DeprecationWarning:\n",
      "\n",
      "sklearn.externals.joblib is deprecated in 0.21 and will be removed in 0.23. Please import this functionality directly from joblib, which can be installed with: pip install joblib. If this warning is raised when loading pickled models, you may need to re-serialize those models with scikit-learn 0.21+.\n",
      "\n"
     ]
    },
    {
     "data": {
      "text/plain": [
       "['lgb_100.pkl']"
      ]
     },
     "execution_count": 35,
     "metadata": {},
     "output_type": "execute_result"
    }
   ],
   "source": [
    "from sklearn.externals import joblib\n",
    "# save model\n",
    "joblib.dump(best_bayes_model, 'lgb_100.pkl')\n",
    "\n",
    "# load model\n",
    "#best_bayes_model = joblib.load('lgb.pkl')"
   ]
  },
  {
   "cell_type": "markdown",
   "metadata": {},
   "source": [
    "<br>\n",
    "<br>"
   ]
  },
  {
   "cell_type": "code",
   "execution_count": 36,
   "metadata": {},
   "outputs": [
    {
     "data": {
      "text/plain": [
       "{'zip_code': array(['Rural', 'Surburban', 'Urban'], dtype=object),\n",
       " 'channel': array(['Multichannel', 'Phone', 'Web'], dtype=object),\n",
       " 'offer': array(['Buy One Get One', 'Discount', 'No Offer'], dtype=object)}"
      ]
     },
     "execution_count": 36,
     "metadata": {},
     "output_type": "execute_result"
    }
   ],
   "source": [
    "le_maps"
   ]
  },
  {
   "cell_type": "code",
   "execution_count": 37,
   "metadata": {
    "scrolled": true
   },
   "outputs": [
    {
     "name": "stdout",
     "output_type": "stream",
     "text": [
      "457.08575612697587\n",
      "491.98975391879196\n"
     ]
    }
   ],
   "source": [
    "print(len(X_test_df) * (X_test_df[X_test_df.offer == 1].conversion.mean() - X_test_df[X_test_df.offer == 2].conversion.mean()))\n",
    "print(len(X_test_df) * (X_test_df[X_test_df.offer == 1].proba.mean() - X_test_df[X_test_df.offer == 2].proba.mean()))"
   ]
  },
  {
   "cell_type": "code",
   "execution_count": 38,
   "metadata": {},
   "outputs": [
    {
     "name": "stdout",
     "output_type": "stream",
     "text": [
      "300.8432733562459\n",
      "293.3267708080441\n"
     ]
    }
   ],
   "source": [
    "print(len(X_test_df) * (X_test_df[X_test_df.offer == 0].conversion.mean() - X_test_df[X_test_df.offer == 2].conversion.mean()))\n",
    "print(len(X_test_df) * (X_test_df[X_test_df.offer == 0].proba.mean() - X_test_df[X_test_df.offer == 2].proba.mean()))"
   ]
  },
  {
   "cell_type": "markdown",
   "metadata": {},
   "source": [
    "<br>\n",
    "<br>"
   ]
  },
  {
   "cell_type": "markdown",
   "metadata": {},
   "source": [
    "The model is able to predict moderately well the Order uplift for borth discount and bogo offers (with the model performing better for bogo offers in this particular Train-Test split)."
   ]
  },
  {
   "cell_type": "code",
   "execution_count": null,
   "metadata": {},
   "outputs": [],
   "source": []
  }
 ],
 "metadata": {
  "kernelspec": {
   "display_name": "Python 3",
   "language": "python",
   "name": "python3"
  },
  "language_info": {
   "codemirror_mode": {
    "name": "ipython",
    "version": 3
   },
   "file_extension": ".py",
   "mimetype": "text/x-python",
   "name": "python",
   "nbconvert_exporter": "python",
   "pygments_lexer": "ipython3",
   "version": "3.7.4"
  }
 },
 "nbformat": 4,
 "nbformat_minor": 2
}
